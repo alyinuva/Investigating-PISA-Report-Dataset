{
 "cells": [
  {
   "cell_type": "markdown",
   "metadata": {},
   "source": [
    "# Data Exploration of PISA report: Relationships Between Student Performance, Socioeconomic Status and Internet Access\n",
    "\n",
    "## by Alfredo Yigal Núñez Varillas\n",
    "\n",
    "___________________\n",
    "\n",
    "### Brief introduction to the PISA report\n",
    "\n",
    "Having a good education is one of the most important factors for a person to fully develop their skills, be able to provide a better quality of life for themselves and their families, and contribute to the economic development of their community. This is well known by different governments worldwide, which is why more and more States are investing in knowing the educational level of their population, the results of their educational efforts and how to improve it. One of the reports that help this goal is the PISA report.\n",
    "\n",
    "The PISA report, from the acronym Program for International Student Assessment, is an OECD program that measures the performance of 15-year-old students in three competencies of importance for their development in the adult world: reading, mathematics and natural sciences. This program is done every three years and allows the different governments to have comparable data in order to have a better knowledge of the performance of their students and improve their educational policies. The program started in the year 2000, participating 32 countries. Since then, the PISA study has grown to involve 65 economies worldwide for the 2012 report. \n",
    "\n",
    "The main objective of the PISA report is not to test the student's knowledge, but to measure their aptitudes and abilities relevant for an optimal development in the adult world. The study focuses on 15-year-old students as this is the age where compulsory education is commonly completed.\n",
    "\n",
    "\n",
    "### Introduction to the PISA dataset\n",
    "\n",
    "In this project, we will explore the data obtained in the PISA report of 2012. The database, which can be obtained [here](https://www.oecd.org/pisa/pisaproducts/pisa2012database-downloadabledata.htm), has information on 485490 students of 15 years from 65 countries worldwide. One of the most outstanding points of the PISA report is the amount of information that was collected. Not only basic data such as country, age and score was obtained; but rich and varied data, from quantity of books in the student's house, educational level of their parents, access to Internet, etc."
   ]
  },
  {
   "cell_type": "code",
   "execution_count": 1,
   "metadata": {},
   "outputs": [],
   "source": [
    "# import all packages and set plots to be embedded inline\n",
    "import numpy as np\n",
    "import pandas as pd\n",
    "import matplotlib.pyplot as plt\n",
    "import seaborn as sb\n",
    "\n",
    "%matplotlib inline"
   ]
  },
  {
   "cell_type": "code",
   "execution_count": 2,
   "metadata": {},
   "outputs": [],
   "source": [
    "# Read pisa2012.csv\n",
    "# pisa_df = pd.read_csv('pisa2012.csv', encoding='windows-1252')\n",
    "# print(pisa_df.shape)\n",
    "# pisa_df.sample(3)"
   ]
  },
  {
   "cell_type": "markdown",
   "metadata": {},
   "source": [
    "The dataset `pisa2012.csv` is interestingly large: there are 485490 rows per 636 columns. Due to these dimensions, it was considered better to have two separate notebooks: One for a basic Wrangling called \"PISA Data Wrangling\" and another for the data exploration (the current notebook)."
   ]
  },
  {
   "cell_type": "code",
   "execution_count": 3,
   "metadata": {},
   "outputs": [],
   "source": [
    "# Import col types\n",
    "col_dtype_series = pd.read_pickle(\"clean_pisa_cols.pkl\")\n",
    "col_dtype_dict = col_dtype_series.to_dict()\n",
    "\n",
    "# read PISA data.\n",
    "pisa_df = pd.read_csv('clean_pisa_data.csv', dtype = col_dtype_dict) "
   ]
  },
  {
   "cell_type": "code",
   "execution_count": 4,
   "metadata": {
    "scrolled": false
   },
   "outputs": [
    {
     "name": "stdout",
     "output_type": "stream",
     "text": [
      "(485490, 14)\n",
      "Index(['student_id', 'gender', 'country', 'ESCS', 'science_score',\n",
      "       'reading_score', 'math_score', 'immig_status', 'late_to_school',\n",
      "       'skip_whole_school_day', 'skip_class_within_school', 'internet_home',\n",
      "       'global_region', 'comb_score'],\n",
      "      dtype='object')\n"
     ]
    },
    {
     "data": {
      "text/html": [
       "<div>\n",
       "<style scoped>\n",
       "    .dataframe tbody tr th:only-of-type {\n",
       "        vertical-align: middle;\n",
       "    }\n",
       "\n",
       "    .dataframe tbody tr th {\n",
       "        vertical-align: top;\n",
       "    }\n",
       "\n",
       "    .dataframe thead th {\n",
       "        text-align: right;\n",
       "    }\n",
       "</style>\n",
       "<table border=\"1\" class=\"dataframe\">\n",
       "  <thead>\n",
       "    <tr style=\"text-align: right;\">\n",
       "      <th></th>\n",
       "      <th>student_id</th>\n",
       "      <th>gender</th>\n",
       "      <th>country</th>\n",
       "      <th>ESCS</th>\n",
       "      <th>science_score</th>\n",
       "      <th>reading_score</th>\n",
       "      <th>math_score</th>\n",
       "      <th>immig_status</th>\n",
       "      <th>late_to_school</th>\n",
       "      <th>skip_whole_school_day</th>\n",
       "      <th>skip_class_within_school</th>\n",
       "      <th>internet_home</th>\n",
       "      <th>global_region</th>\n",
       "      <th>comb_score</th>\n",
       "    </tr>\n",
       "  </thead>\n",
       "  <tbody>\n",
       "    <tr>\n",
       "      <th>21656</th>\n",
       "      <td>5414</td>\n",
       "      <td>Male</td>\n",
       "      <td>Argentina</td>\n",
       "      <td>-0.71</td>\n",
       "      <td>268.3141</td>\n",
       "      <td>236.5555</td>\n",
       "      <td>312.5175</td>\n",
       "      <td>Native</td>\n",
       "      <td>Three or Four Times</td>\n",
       "      <td>One or Two Times</td>\n",
       "      <td>One or Two Times</td>\n",
       "      <td>NaN</td>\n",
       "      <td>Latin America</td>\n",
       "      <td>817.3871</td>\n",
       "    </tr>\n",
       "    <tr>\n",
       "      <th>424418</th>\n",
       "      <td>1643</td>\n",
       "      <td>Male</td>\n",
       "      <td>Singapore</td>\n",
       "      <td>-0.42</td>\n",
       "      <td>408.2805</td>\n",
       "      <td>416.1110</td>\n",
       "      <td>456.1536</td>\n",
       "      <td>Native</td>\n",
       "      <td>One or Two Times</td>\n",
       "      <td>Never</td>\n",
       "      <td>Never</td>\n",
       "      <td>Yes, and I use it</td>\n",
       "      <td>Asia</td>\n",
       "      <td>1280.5451</td>\n",
       "    </tr>\n",
       "    <tr>\n",
       "      <th>352120</th>\n",
       "      <td>2612</td>\n",
       "      <td>Female</td>\n",
       "      <td>Montenegro</td>\n",
       "      <td>-0.35</td>\n",
       "      <td>474.2074</td>\n",
       "      <td>491.8408</td>\n",
       "      <td>461.2946</td>\n",
       "      <td>First-Generation</td>\n",
       "      <td>One or Two Times</td>\n",
       "      <td>Never</td>\n",
       "      <td>Never</td>\n",
       "      <td>NaN</td>\n",
       "      <td>Europe</td>\n",
       "      <td>1427.3428</td>\n",
       "    </tr>\n",
       "  </tbody>\n",
       "</table>\n",
       "</div>"
      ],
      "text/plain": [
       "       student_id  gender     country  ESCS  science_score  reading_score  \\\n",
       "21656        5414    Male   Argentina -0.71       268.3141       236.5555   \n",
       "424418       1643    Male   Singapore -0.42       408.2805       416.1110   \n",
       "352120       2612  Female  Montenegro -0.35       474.2074       491.8408   \n",
       "\n",
       "        math_score      immig_status       late_to_school  \\\n",
       "21656     312.5175            Native  Three or Four Times   \n",
       "424418    456.1536            Native     One or Two Times   \n",
       "352120    461.2946  First-Generation     One or Two Times   \n",
       "\n",
       "       skip_whole_school_day skip_class_within_school      internet_home  \\\n",
       "21656       One or Two Times         One or Two Times                NaN   \n",
       "424418                 Never                    Never  Yes, and I use it   \n",
       "352120                 Never                    Never                NaN   \n",
       "\n",
       "        global_region  comb_score  \n",
       "21656   Latin America    817.3871  \n",
       "424418           Asia   1280.5451  \n",
       "352120         Europe   1427.3428  "
      ]
     },
     "execution_count": 4,
     "metadata": {},
     "output_type": "execute_result"
    }
   ],
   "source": [
    "print(pisa_df.shape)\n",
    "print(pisa_df.columns)\n",
    "pisa_df.sample(3)"
   ]
  },
  {
   "cell_type": "markdown",
   "metadata": {},
   "source": [
    "### What is the structure of your dataset?\n",
    "\n",
    "This DF has a total of 14 columns per 485490 rows. The data we can obtain range from personal and family information of the student, to data on the scores obtained, their access to the internet etc. \n",
    "\n",
    "\n",
    "### What is/are the main feature(s) of interest in your dataset?\n",
    "\n",
    "In the Data Wrangling stage, I analyzed column by column of the original dataset and wrote down the following points of interest:\n",
    "\n",
    "**Main point of interest:**\n",
    "\n",
    "- Is there any relationship between students who arrive late, skip a class or miss a whole school day and a lower performance on the study?\n",
    "- Is there any difference in results between students who have access to the internet and those who do not?\n",
    "- Is there any relationship between the economic-socio-cultural level of students and their performance in the test?\n",
    "\n",
    "**Other points of interest:**\n",
    "\n",
    "- What are the differences between the results of boys and girls?\n",
    "- Are there statistically significant differences between foreign students and local students?\n",
    "\n",
    "### What features in the dataset do you think will help support your investigation into your feature(s) of interest?\n",
    "\n",
    "Basically, all the columns of `clean_pisa_data.csv` will be used for our analysis, since we had to define points of interest from the beginning in order to filter the important columns from the hundreds of available columns in the `pisa2012.csv` file."
   ]
  }
 ],
 "metadata": {
  "kernelspec": {
   "display_name": "Python [conda env:py3]",
   "language": "python",
   "name": "conda-env-py3-py"
  },
  "language_info": {
   "codemirror_mode": {
    "name": "ipython",
    "version": 3
   },
   "file_extension": ".py",
   "mimetype": "text/x-python",
   "name": "python",
   "nbconvert_exporter": "python",
   "pygments_lexer": "ipython3",
   "version": "3.7.3"
  }
 },
 "nbformat": 4,
 "nbformat_minor": 2
}
